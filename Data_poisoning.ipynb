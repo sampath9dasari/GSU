{
  "nbformat": 4,
  "nbformat_minor": 0,
  "metadata": {
    "colab": {
      "name": "Data poisoning.ipynb",
      "provenance": [],
      "collapsed_sections": [],
      "include_colab_link": true
    },
    "kernelspec": {
      "name": "python3",
      "display_name": "Python 3"
    },
    "accelerator": "GPU"
  },
  "cells": [
    {
      "cell_type": "markdown",
      "metadata": {
        "id": "view-in-github",
        "colab_type": "text"
      },
      "source": [
        "<a href=\"https://colab.research.google.com/github/sampath9dasari/GSU/blob/master/Data_poisoning.ipynb\" target=\"_parent\"><img src=\"https://colab.research.google.com/assets/colab-badge.svg\" alt=\"Open In Colab\"/></a>"
      ]
    },
    {
      "cell_type": "markdown",
      "metadata": {
        "id": "dsvgp5KGg6qx",
        "colab_type": "text"
      },
      "source": [
        "# Poisoning\n",
        "\n",
        "In this exercise we will be exploring data poisoning. Specifically backdoor poisoning. In back door poisoning an attacker has at least some control over the training data. Their goal is to place a marker in the data so that later at test time the system behaves in a certain way when it finds the marker.\n",
        "\n",
        "In our case the desired behaviour is to predict a specifc class that the attacker chooses at attack time. \n",
        "\n",
        "The attack consists of the following steps:\n",
        "\n",
        "1.   Create a marker/pattern\n",
        "2.   Embedd the marker in the training data\n",
        "3.   Label all the marked data with the desired label\n",
        "\n",
        "Below you can find a code stub that you can use need to expand to create poisoned data and train a model on that data. Aftwards you need to perform some evaluation on the data. Design your experiments to answer the following questions:\n",
        "\n",
        "1.   How large does a marker need to be to be effective?\n",
        "2.   Does the opacity of the marker matter?\n",
        "3.   Does the \"design\" of the marker have any impact on success rate?\n",
        "4.   Are there good or bad marker placements? If so where are they? Can you think of a way to determine good placement?\n",
        "5.   Does the marker always need to be in the same place?\n",
        "6.   Do you need access to all classes during training? How many classes do you need access to?\n",
        "7.   Does the backdoor attack impact the models performance on clean data?\n",
        "8.   Is the marker on its own effective? Do you need to modify valid instances? Think about training and test time?\n",
        "\n",
        "\n",
        "# TIP\n",
        "\n",
        "Change the runtime to GPU accelerated. Otherwise you will be here for a while.\n",
        "\n",
        "To do this:\n",
        "\n",
        "1.   Select `Runtime` from the menu at the top\n",
        "2.   Click `Change Runtime type`\n",
        "3.   Under `Hardware accelerator` choose `GPU`\n",
        "4.   Hit `Save` and if it is asks you to reconnect do so\n",
        "\n",
        "\n",
        "\n",
        "\n",
        "\n"
      ]
    },
    {
      "cell_type": "code",
      "metadata": {
        "id": "gPStisBVRKsd",
        "colab_type": "code",
        "colab": {
          "base_uri": "https://localhost:8080/",
          "height": 34
        },
        "outputId": "68cc0267-fa48-44ab-d8d3-d33430d6a845"
      },
      "source": [
        "%tensorflow_version 1.x\n",
        "import keras\n",
        "from keras.datasets import mnist\n",
        "from keras.models import Sequential\n",
        "from keras.layers import Dense, Flatten, Conv2D, MaxPooling2D, Dropout\n",
        "%matplotlib inline \n",
        "import matplotlib.pyplot as plt\n",
        "import numpy as np\n",
        "\n",
        "\n",
        "\n",
        "# helper functions\n",
        "def show_image( img ):\n",
        "  plt.imshow( img.reshape( int( np.sqrt( img.size ) ), int( np.sqrt( img.size ) ) ), cmap=\"gray_r\" )\n",
        "  plt.axis( 'off' )\n",
        "  plt.show( )\n",
        "\n",
        "\n",
        "def convert_to_keras_image_format( x_train, x_test ):\n",
        "    if keras.backend.image_data_format( ) == 'channels_first':\n",
        "        x_train = x_train.reshape( x_train.shape[ 0 ], 1, x_train.shape[ 1 ], x_train.shape[ 2 ] )\n",
        "        x_test = x_test.reshape( x_test.shape[ 0 ], 1, x_train.shape[ 1 ], x_train.shape[ 2 ] )\n",
        "    else:\n",
        "        x_train = x_train.reshape( x_train.shape[ 0 ], x_train.shape[ 1 ], x_train.shape[ 2 ], 1 )\n",
        "        x_test = x_test.reshape( x_test.shape[ 0 ], x_train.shape[ 1 ], x_train.shape[ 2 ], 1 )\n",
        "\n",
        "    return x_train, x_test\n",
        "\n",
        "\n"
      ],
      "execution_count": 2,
      "outputs": [
        {
          "output_type": "stream",
          "text": [
            "Using TensorFlow backend.\n"
          ],
          "name": "stderr"
        }
      ]
    },
    {
      "cell_type": "code",
      "metadata": {
        "id": "eBi6Zwf_wQME",
        "colab_type": "code",
        "colab": {}
      },
      "source": [
        "# load data and quantize\n",
        "(x_train, y_train), (x_test, y_test) = mnist.load_data()\n",
        "x_train = x_train.astype( float ) / 255.\n",
        "x_test = x_test.astype( float ) / 255.\n"
      ],
      "execution_count": 0,
      "outputs": []
    },
    {
      "cell_type": "code",
      "metadata": {
        "id": "_ASh5CL_wWJp",
        "colab_type": "code",
        "colab": {
          "base_uri": "https://localhost:8080/",
          "height": 34
        },
        "outputId": "01a18bcd-6baa-4bc1-fdee-a79eeca83434"
      },
      "source": [
        "x_train.shape"
      ],
      "execution_count": 142,
      "outputs": [
        {
          "output_type": "execute_result",
          "data": {
            "text/plain": [
              "(60000, 28, 28)"
            ]
          },
          "metadata": {
            "tags": []
          },
          "execution_count": 142
        }
      ]
    },
    {
      "cell_type": "code",
      "metadata": {
        "id": "Sak45p0xwR4Y",
        "colab_type": "code",
        "colab": {
          "base_uri": "https://localhost:8080/",
          "height": 282
        },
        "outputId": "880219c3-9298-45cb-e2bc-2ae4aa5cd3ac"
      },
      "source": [
        "# create a poisoing pattern\n",
        "# be sure to make it square. the code the relies on it being square\n",
        "psig = np.array([0.4])\n",
        "print( 'poisoning marker:', psig )\n",
        "# show_image(psig)\n",
        "\n",
        "# pick some image\n",
        "print( 'some image' )\n",
        "attack_sample = x_train[np.random.randint(x_train.shape[0])].copy()\n",
        "show_image(attack_sample)\n"
      ],
      "execution_count": 143,
      "outputs": [
        {
          "output_type": "stream",
          "text": [
            "poisoning marker: [0.4]\n",
            "some image\n"
          ],
          "name": "stdout"
        },
        {
          "output_type": "display_data",
          "data": {
            "image/png": "[encoded data removed]",
            "text/plain": [
              "<Figure size 432x288 with 1 Axes>"
            ]
          },
          "metadata": {
            "tags": []
          }
        }
      ]
    },
    {
      "cell_type": "code",
      "metadata": {
        "id": "HxnhJzQ6wyZq",
        "colab_type": "code",
        "colab": {
          "base_uri": "https://localhost:8080/",
          "height": 302
        },
        "outputId": "7c9378cf-3e16-400d-c000-36f72a5a0248"
      },
      "source": [
        "# add poisoning pattern\n",
        "attack_p = attack_sample.copy()\n",
        "rpos = np.random.randint(28)\n",
        "attack_p[rpos,rpos] = attack_p[rpos,rpos]+psig\n",
        "show_image(attack_p)\n",
        "\n",
        "# pick a random subset images\n",
        "ind = np.random.choice(np.arange(x_train.shape[0]),50)\n",
        "attack_set = x_train[[ind]].copy()\n",
        "\n",
        "# place the marker in the images\n",
        "for img in attack_set:\n",
        "  rpos = np.random.randint(28)\n",
        "  img[rpos,rpos] = img[rpos,rpos]+psig\n",
        "\n",
        "\n",
        "# pick a target label and create labels for the poisoned images\n",
        "# target_5 = np.zeros(y_train.shape[1])\n",
        "# target_5[5] = 1\n",
        "attack_label = np.repeat(5,attack_set.shape[0])\n",
        "\n",
        "# add the poisoned data to the training data\n",
        "x_train = np.concatenate((x_train,attack_set))\n",
        "y_train = np.concatenate((y_train,attack_label))"
      ],
      "execution_count": 144,
      "outputs": [
        {
          "output_type": "display_data",
          "data": {
            "image/png": "[encoded data removed]",
            "text/plain": [
              "<Figure size 432x288 with 1 Axes>"
            ]
          },
          "metadata": {
            "tags": []
          }
        },
        {
          "output_type": "stream",
          "text": [
            "/usr/local/lib/python3.6/dist-packages/ipykernel_launcher.py:8: FutureWarning: Using a non-tuple sequence for multidimensional indexing is deprecated; use `arr[tuple(seq)]` instead of `arr[seq]`. In the future this will be interpreted as an array index, `arr[np.array(seq)]`, which will result either in an error or a different result.\n",
            "  \n"
          ],
          "name": "stderr"
        }
      ]
    },
    {
      "cell_type": "code",
      "metadata": {
        "id": "b-DCDtuFy-QJ",
        "colab_type": "code",
        "colab": {
          "base_uri": "https://localhost:8080/",
          "height": 153
        },
        "outputId": "9742b818-5c02-45a0-a89f-e86b4823f043"
      },
      "source": [
        "# transform data to the correct format\n",
        "x_train, x_test = convert_to_keras_image_format( x_train, x_test )\n",
        "y_train = keras.utils.to_categorical( y_train )\n",
        "y_test = keras.utils.to_categorical( y_test )\n",
        "\n",
        "model = Sequential()\n",
        "model.add( Conv2D(32, kernel_size=(3, 3), activation='relu', input_shape=x_train.shape[1:] ) )\n",
        "model.add( Flatten() )\n",
        "model.add( Dense(128, activation='relu') )\n",
        "model.add( Dense(10, activation='softmax') )\n",
        "\n",
        "model.compile( loss='categorical_crossentropy', optimizer='adam', metrics=['accuracy'] )\n",
        "\n",
        "model.fit( x_train, y_train, epochs=3 )\n",
        "\n",
        "model.evaluate( x_test, y_test )\n",
        "  \n"
      ],
      "execution_count": 145,
      "outputs": [
        {
          "output_type": "stream",
          "text": [
            "Epoch 1/3\n",
            "60050/60050 [==============================] - 11s 188us/step - loss: 0.1497 - acc: 0.9561\n",
            "Epoch 2/3\n",
            "60050/60050 [==============================] - 11s 180us/step - loss: 0.0516 - acc: 0.9855\n",
            "Epoch 3/3\n",
            "60050/60050 [==============================] - 11s 180us/step - loss: 0.0295 - acc: 0.9919\n",
            "10000/10000 [==============================] - 1s 82us/step\n"
          ],
          "name": "stdout"
        },
        {
          "output_type": "execute_result",
          "data": {
            "text/plain": [
              "[0.05556746585983783, 0.9822]"
            ]
          },
          "metadata": {
            "tags": []
          },
          "execution_count": 145
        }
      ]
    },
    {
      "cell_type": "code",
      "metadata": {
        "id": "Ls1WTrc2PGAq",
        "colab_type": "code",
        "colab": {
          "base_uri": "https://localhost:8080/",
          "height": 102
        },
        "outputId": "d28f466f-8096-41b2-9533-2ddd7741bbcf"
      },
      "source": [
        "# take an image from the test data\n",
        "attack_test = x_test[20].copy()\n",
        "# get the models' prediction\n",
        "print(np.round(model.predict_classes(attack_test.reshape(1,28,28,1))))\n",
        "\n",
        "# add the marker\n",
        "attack_test[3,3,0] = attack_test[3,3,0] + psig\n",
        "\n",
        "# prediction with the marker\n",
        "print(np.round(model.predict_classes(attack_test.reshape(1,28,28,1))))\n",
        "\n",
        "# add the marker to the entire test data\n",
        "full_attack_test = x_test.copy()\n",
        "for i in full_attack_test:\n",
        "  i[3,3,0] = i[3,3,0] + psig\n",
        "\n",
        "\n",
        "# test how markers behave on random data\n",
        "print(np.unique(model.predict_classes(full_attack_test),return_counts=True))\n",
        "print(model.evaluate(full_attack_test,y_test))\n",
        "\n",
        "# what about random marker position?\n"
      ],
      "execution_count": 146,
      "outputs": [
        {
          "output_type": "stream",
          "text": [
            "[9]\n",
            "[9]\n",
            "(array([0, 1, 2, 3, 4, 5, 6, 7, 8, 9]), array([ 997, 1149, 1018, 1006,  988,  890,  956, 1020,  985,  991]))\n",
            "10000/10000 [==============================] - 1s 67us/step\n",
            "[0.05326646976252086, 0.9835]\n"
          ],
          "name": "stdout"
        }
      ]
    },
    {
      "cell_type": "code",
      "metadata": {
        "id": "OG0tqszA20du",
        "colab_type": "code",
        "colab": {}
      },
      "source": [
        ""
      ],
      "execution_count": 0,
      "outputs": []
    }
  ]
}